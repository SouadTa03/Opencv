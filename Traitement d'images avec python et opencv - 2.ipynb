{
 "cells": [
  {
   "cell_type": "markdown",
   "metadata": {
    "id": "6948cgBkwv8E",
    "lines_to_next_cell": 0
   },
   "source": [
    "# Les fonctions dans python\n",
    "\n",
    "Depuis le début, vous avez utilisé différentes fonctions, comme la fonction  print()  ou encore les différentes fonctions de cast comme int()  ou encore str(). Vous allez à présent prendre le temps de bien définir ce qu’est une fonction, à quoi elle sert et comment vous pouvez créer vos propres fonctions"
   ]
  },
  {
   "attachments": {},
   "cell_type": "markdown",
   "metadata": {
    "id": "Wy5EsTPzwv8E"
   },
   "source": [
    "## Exemple de fonctions basiques\n",
    "\n",
    "Il existe de nombreuses fonctions préexistantes en Python ! En plus de celles déjà vues, il y a par exemple :\n",
    "- len()  : une fonction qui renvoie la longueur d’un élément. Vous vous souvenez des chaînes de caractères ? Utiliser cette fonction sur une chaîne de caractères permet par exemple de savoir combien de caractères cette dernière contient ;\n",
    "\n",
    "- type()  : permet d’afficher le type d’une variable ;\n",
    "\n",
    "- pow(a, b)  : permet de calculer a puissance b. Elle est équivalente à l’écriture  a**b;\n",
    "\n",
    "- abs()  : retourne la valeur absolue d’un nombre."
   ]
  },
  {
   "cell_type": "code",
   "execution_count": 18,
   "metadata": {},
   "outputs": [
    {
     "name": "stdout",
     "output_type": "stream",
     "text": [
      "5\n",
      "<class 'str'>\n",
      "16\n",
      "100\n"
     ]
    }
   ],
   "source": [
    "a = 'pomme'\n",
    "print(len(a))\n",
    "print(type(a))\n",
    "print(pow(4,2))\n",
    "print(abs(-100))"
   ]
  },
  {
   "cell_type": "markdown",
   "metadata": {},
   "source": [
    "## Ecrivez vos propres fonctions\n",
    "\n",
    "Supposez à présent qu’il vous soit demandé de développer un programme faisant intervenir des notions de géométrie.\n",
    "Vous avez à utiliser de nombreux triangles dont vous avez la longueur des trois côtés et vous souhaitez afficher leur périmètre.\n",
    "Vous allez donc créer une fonction qui va afficher le périmètre d’un triangle en fonction de la longueur de ses côtés !\n",
    "\n",
    "Une fonction est définie via le mot clé  def  suivi du nom de la fonction :"
   ]
  },
  {
   "cell_type": "code",
   "execution_count": null,
   "metadata": {
    "id": "R6E2bW_8wv8E",
    "lines_to_next_cell": 2,
    "outputId": "60b24a72-ec9c-4d99-e333-6095e0ef3123"
   },
   "outputs": [],
   "source": [
    "def nomFonction():\n",
    "    # instructions \n",
    "    # pouvant aller\n",
    "    # sur plusieurs\n",
    "    # lignes"
   ]
  },
  {
   "cell_type": "markdown",
   "metadata": {},
   "source": [
    "Notez que l’ensemble des instructions associées à votre fonction sont décalées dans le code : c’est ce que l’on appelle l’indentation.\n",
    "Python est un langage structuré en blocs : chaque groupe ou bloc de programme doit donc être indenté. Généralement, l'indentation se traduit par 4 espaces ou une tabulation.\n",
    "\n",
    "Définissez à présent une fonction qui répondrait à votre problématique :"
   ]
  },
  {
   "cell_type": "code",
   "execution_count": null,
   "metadata": {},
   "outputs": [],
   "source": [
    "def afficherPerimetre():\n",
    "    cote1 = 6\n",
    "    cote2 = 4\n",
    "    cote3 = 3\n",
    "    perimetre = cote1 + cote2 + cote3\n",
    "    print(perimetre)\n",
    "    \n",
    "afficherPerimetre()"
   ]
  },
  {
   "cell_type": "code",
   "execution_count": null,
   "metadata": {},
   "outputs": [],
   "source": [
    "Cette fonction est correcte, mais un peu inutile telle quelle : vos triangles n’ont pas tous la même dimension."
   ]
  },
  {
   "cell_type": "markdown",
   "metadata": {},
   "source": [
    "### Définissez des paramètres\n",
    "En Python, les paramètres, tout comme le nom de la fonction, sont définis lors de l’écriture de cette dernière. "
   ]
  },
  {
   "cell_type": "code",
   "execution_count": null,
   "metadata": {},
   "outputs": [],
   "source": [
    "def afficherPerimetre(cote1, cote2, cote3):\n",
    "    perimetre = cote1 + cote2 + cote3\n",
    "    print(perimetre)"
   ]
  },
  {
   "cell_type": "markdown",
   "metadata": {},
   "source": [
    "Les paramètres sont des variables définies lors de la déclaration de la fonction, spécifiées à l’intérieur des parenthèses. À présent, vous pouvez utiliser votre fonction avec n’importe quel triangle existant :"
   ]
  },
  {
   "cell_type": "code",
   "execution_count": null,
   "metadata": {},
   "outputs": [],
   "source": [
    "afficherPerimetre(10, 11, 4)\n",
    "afficherPerimetre(2, 2, 3.5) "
   ]
  },
  {
   "cell_type": "markdown",
   "metadata": {},
   "source": [
    "Chaque valeur est affectée à un paramètre, dans l’ordre où elles ont été définies"
   ]
  },
  {
   "cell_type": "markdown",
   "metadata": {},
   "source": [
    "### Définissez une valeur retournée\n",
    "Pour définir une valeur retournée, il faut explicitement utiliser le mot clé return à la fin de votre fonction.\n",
    "Vous pourriez changer votre fonction  afficherPerimetre  en  calculPerimetre  qui retournera le périmètre d’un triangle, en fonction de la longueur de ses trois côtés, pour pouvoir être réutilisé après coup :"
   ]
  },
  {
   "cell_type": "code",
   "execution_count": null,
   "metadata": {},
   "outputs": [],
   "source": [
    "def calculPerimetre(cote1, cote2, cote3):\n",
    "    perimetre = cote1 + cote2 + cote3\n",
    "    return perimetre"
   ]
  },
  {
   "cell_type": "markdown",
   "metadata": {},
   "source": [
    "Une fois votre fonction définie, vous pouvez l’utiliser autant de fois que nécessaire :"
   ]
  },
  {
   "cell_type": "code",
   "execution_count": null,
   "metadata": {},
   "outputs": [],
   "source": [
    "perimetre1 = calculPerimetre(6, 4, 3)\n",
    "perimetre2 = calculPerimetre(10, 3, 11)\n",
    "\n",
    "print(\"Le périmetre de mon premier triangle est\", perimetre1, \"et celle de mon second est\", perimetre2)"
   ]
  },
  {
   "cell_type": "markdown",
   "metadata": {},
   "source": [
    "Et en analysant ces lignes, vous vous rendrez compte qu’à chaque fois que vous utilisiez la fonction  print, vous lui passiez en paramètres les éléments à afficher"
   ]
  },
  {
   "cell_type": "markdown",
   "metadata": {},
   "source": [
    "### Utilisez la fonction help en cas d'oubli\n",
    "\n",
    "Si vous exécutez  help(nomFonction), cela affichera la documentation de cette fonction résumant :\n",
    "- son but ;\n",
    "- des recommandations d’utilisation ;\n",
    "- la liste et la description des paramètres ;\n",
    "- parfois même des exemples."
   ]
  }
 ],
 "metadata": {
  "colab": {
   "provenance": []
  },
  "jupytext": {
   "cell_metadata_filter": "-all",
   "formats": "ipynb,py:light",
   "main_language": "python",
   "notebook_metadata_filter": "-all"
  },
  "kernelspec": {
   "display_name": "Python 3 (ipykernel)",
   "language": "python",
   "name": "python3"
  },
  "language_info": {
   "codemirror_mode": {
    "name": "ipython",
    "version": 3
   },
   "file_extension": ".py",
   "mimetype": "text/x-python",
   "name": "python",
   "nbconvert_exporter": "python",
   "pygments_lexer": "ipython3",
   "version": "3.9.13"
  }
 },
 "nbformat": 4,
 "nbformat_minor": 1
}
