{
 "cells": [
  {
   "cell_type": "markdown",
   "metadata": {
    "id": "6948cgBkwv8E",
    "lines_to_next_cell": 0
   },
   "source": [
    "# Pourquoi python?\n",
    "\n",
    "Python est un langage de programmation assez généraliste, c’est-à-dire qu’il est à peu près possible de tout faire avec : des sites et applications web, des applications mobiles, des scripts personnels, des applications de bureau, de l’analyse de données et même des jeux vidéo !\n",
    "\n",
    "Par exemple :\n",
    "\n",
    "    Instagram est codé en Python ;\n",
    "\n",
    "    c’est l’un des langages principaux utilisés par les ingénieurs de chez Google ;\n",
    "\n",
    "    Netflix utilise Python pour l’élaboration de ses algorithmes de recommandation ;\n",
    "\n",
    "    l’application bureau de Dropbox est développée en Python ;\n",
    "\n",
    "    Reddit est codé en Python.\n",
    "\n",
    "Concernant la data, Python est le langage le plus utilisé, en particulier pour les traitements et manipulations de données, la data visualisation et le développement d’algorithmes d’intelligence artificielle."
   ]
  },
  {
   "cell_type": "markdown",
   "metadata": {
    "id": "Wy5EsTPzwv8E"
   },
   "source": [
    "# Les bases de python"
   ]
  },
  {
   "cell_type": "markdown",
   "metadata": {},
   "source": [
    "## Afficher un texte "
   ]
  },
  {
   "cell_type": "code",
   "execution_count": 2,
   "metadata": {
    "id": "R6E2bW_8wv8E",
    "lines_to_next_cell": 2,
    "outputId": "60b24a72-ec9c-4d99-e333-6095e0ef3123"
   },
   "outputs": [
    {
     "name": "stdout",
     "output_type": "stream",
     "text": [
      "hello world\n"
     ]
    }
   ],
   "source": [
    "print('hello world') "
   ]
  },
  {
   "cell_type": "markdown",
   "metadata": {},
   "source": [
    "## Déclarer des variables \n",
    "Vous savez afficher un texte à l’écran. Très bien. C’est un début, mais vous serez capable de faire bien plus en utilisant les variables.\n",
    "Il y a plusieurs types de variables en Python, représentatifs de la réalité : du texte, des valeurs numériques, des tableaux, etc\n"
   ]
  },
  {
   "cell_type": "code",
   "execution_count": 3,
   "metadata": {},
   "outputs": [],
   "source": [
    "compteCourant = 500\n",
    "compteEpargne = 1000"
   ]
  },
  {
   "cell_type": "markdown",
   "metadata": {},
   "source": [
    "pour affecter une valeur à une variable, vous écrivez une expression qui se construit avec le nom de la variable, suivi de l’opérateur d’affectation = et finalement de la valeur à associer."
   ]
  },
  {
   "cell_type": "markdown",
   "metadata": {},
   "source": [
    "### Les opérations sur les variables"
   ]
  },
  {
   "cell_type": "markdown",
   "metadata": {},
   "source": [
    "Les règles de calcul arithmétique s’appliquent en Python, en particulier l’ordre des opérations. Mais comme en mathématiques classiques, vous pouvez utiliser des parenthèses pour réorganiser l’ordre des calculs. Voyez comment réaliser cela en Python :"
   ]
  },
  {
   "cell_type": "code",
   "execution_count": null,
   "metadata": {},
   "outputs": [],
   "source": [
    "# ajouter 100 à notre épargne \n",
    "compteEpargne = compteEpargne + 100\n",
    "\n",
    "# enlever 50 de notre compte courant \n",
    "compteCourant = compteCourant - 50\n",
    "\n",
    "# calculer le nombre de jours à économiser pour atteindre 5000€\n",
    "nombreJoursEconomiser = (5000 - compteCourant) / 500"
   ]
  },
  {
   "cell_type": "markdown",
   "metadata": {},
   "source": [
    "Si vous prêtez attention, vous noterez que la couleur n’est pas la même partout. C’est parce que votre code contient des lignes commençant avec un  # ce sont les commentaires. Elles sont utilisées pour documenter votre code et aider d’autres personnes à le comprendre ;"
   ]
  },
  {
   "cell_type": "markdown",
   "metadata": {},
   "source": [
    "Il existe également d’autres opérateurs arithmétiques un peu plus complexes, mais pas moins utiles pour autant, comme :\n",
    "\n",
    "    %  modulo : retourne le reste de la division euclidienne ;\n",
    "\n",
    "    **  puissance : permet d’élever un nombre à une certaine puissance ;\n",
    "\n",
    "    //  division entière : calcule la division entière (chiffre arrondi à l’inférieur)."
   ]
  },
  {
   "cell_type": "code",
   "execution_count": null,
   "metadata": {},
   "outputs": [],
   "source": [
    "print(compteEpargne % 500) # -> 100\n",
    "# 1100 = 500 * 2 + 100, donc 1100 % 500 = le reste = 100\n",
    "\n",
    "print(9 ** 3) # -> 729, 9*9*9 = 729\n",
    "\n",
    "print(compteEpargne // 500) # -> 2\n",
    "# 1100 = 500 * 2 + 100, donc 1100 // 500 = résultat division entière = 2"
   ]
  },
  {
   "cell_type": "markdown",
   "metadata": {},
   "source": [
    "### Essayez par vous-même :\n",
    "\n",
    "Tentez de déclarer vous même une variable à partir de deux autres variables"
   ]
  },
  {
   "cell_type": "markdown",
   "metadata": {},
   "source": [
    "Exécutez la case suivante qui déclare les variables :\n",
    "\n",
    "    compteEpargne correspondant au montant sur le compte épargne\n",
    "    taux le taux d'intérêt pour l'année considérée"
   ]
  },
  {
   "cell_type": "code",
   "execution_count": 4,
   "metadata": {},
   "outputs": [],
   "source": [
    "compteEpargne = 10000\n",
    "taux = 0.75"
   ]
  },
  {
   "cell_type": "markdown",
   "metadata": {},
   "source": [
    "Créez une variable interets, qui correspond au montant sur le compte épargne multiplié par le taux d'intérêt (qui lui même doit être divisé par 100, car les taux sont exprimés en pourcentage) :"
   ]
  },
  {
   "cell_type": "code",
   "execution_count": 6,
   "metadata": {},
   "outputs": [],
   "source": [
    "interets = "
   ]
  },
  {
   "cell_type": "markdown",
   "metadata": {},
   "source": [
    "A présent exécutez la case suivante :"
   ]
  },
  {
   "cell_type": "code",
   "execution_count": 7,
   "metadata": {},
   "outputs": [
    {
     "name": "stdout",
     "output_type": "stream",
     "text": [
      "Le solde de votre compte était de 10000 €\n",
      "Il vous a rapporté 75.0 € cette année\n"
     ]
    }
   ],
   "source": [
    "print(\"Le solde de votre compte était de\", compteEpargne, \"€\\nIl vous a rapporté\", interets, \"€ cette année\")"
   ]
  },
  {
   "cell_type": "markdown",
   "metadata": {},
   "source": [
    "vous pouvez utiliser des opérateurs simplifiés "
   ]
  },
  {
   "cell_type": "code",
   "execution_count": null,
   "metadata": {},
   "outputs": [],
   "source": [
    "# version explicite\n",
    "compteEpargne = compteEpargne + 100\n",
    "\n",
    "# équivalent à version courte :\n",
    "compteEpargne += 100"
   ]
  },
  {
   "cell_type": "markdown",
   "metadata": {},
   "source": [
    "Il est possible de stocker n’importe quel type de données dans une variable."
   ]
  },
  {
   "cell_type": "code",
   "execution_count": 11,
   "metadata": {},
   "outputs": [],
   "source": [
    "prenom = \"Benjamin\"\n",
    "pourcentageActivite = 72.3\n",
    "adresse = '7 Cité Paradis, 75010 Paris'"
   ]
  },
  {
   "cell_type": "markdown",
   "metadata": {},
   "source": [
    "Notez que vous avez besoin d’utiliser des doubles quotes (\") ou (') pour définir des chaînes de caractères – variables textuelles – en Python."
   ]
  },
  {
   "cell_type": "markdown",
   "metadata": {},
   "source": [
    "## Les variables numériques\n",
    "\n",
    "Les variables numériques peuvent être décomposées en deux types bien distincts :\n",
    "- les entiers, qui correspondent à l’ensemble des nombres entiers positifs ou négatifs (1, 2, 0, 123, -3, etc.) => int\n",
    "- les nombres décimaux, qui, en plus des entiers, incluent l’ensemble des nombres décimaux (2,50 ; 5,99 ; -1,20 ; etc.) => float"
   ]
  },
  {
   "cell_type": "code",
   "execution_count": 12,
   "metadata": {},
   "outputs": [
    {
     "data": {
      "text/plain": [
       "2.5"
      ]
     },
     "execution_count": 12,
     "metadata": {},
     "output_type": "execute_result"
    }
   ],
   "source": [
    "a = 7.5\n",
    "b = 3\n",
    "c = a/b\n",
    "c\n"
   ]
  },
  {
   "cell_type": "markdown",
   "metadata": {},
   "source": [
    "Cependant, vous pouvez forcer la conversion d’une variable dans un type bien défini. Ceci est appelé du typecasting"
   ]
  },
  {
   "cell_type": "code",
   "execution_count": 13,
   "metadata": {},
   "outputs": [
    {
     "name": "stdout",
     "output_type": "stream",
     "text": [
      "14\n"
     ]
    }
   ],
   "source": [
    "a = 14.0\n",
    "# a est un float\n",
    "a = int(a)\n",
    "print(a)\n"
   ]
  },
  {
   "cell_type": "markdown",
   "metadata": {},
   "source": [
    "## Les chaînes de caractères\n",
    "Elles permettent de stocker du texte dans vos variables. Elles sont du type string  en Python."
   ]
  },
  {
   "cell_type": "code",
   "execution_count": 15,
   "metadata": {},
   "outputs": [
    {
     "name": "stdout",
     "output_type": "stream",
     "text": [
      "Mes villes favorites sont Reims et Strasbourg\n"
     ]
    }
   ],
   "source": [
    "ville = \"Paris\"\n",
    "film = 'intouchables'\n",
    "stringVide = \"\"\n",
    "\n",
    "villeFavoriteUne = \"Reims\"\n",
    "villeFavoriteDeux = \"Strasbourg\"\n",
    "favoris = \"Mes villes favorites sont \" + villeFavoriteUne + \" et \" + villeFavoriteDeux \n",
    "print(favoris) "
   ]
  },
  {
   "cell_type": "markdown",
   "metadata": {},
   "source": [
    "Vous ne pouvez cependant pas concaténer d’autres types avec des strings – comme des variables numériques : cela renverrait une erreur. Pour remédier à cela, vous aurez besoin de caster votre variable numérique en  string, via la fonction  str():"
   ]
  },
  {
   "cell_type": "code",
   "execution_count": 16,
   "metadata": {},
   "outputs": [
    {
     "name": "stdout",
     "output_type": "stream",
     "text": [
      "J'ai déjà été à Sydney 5 fois\n"
     ]
    }
   ],
   "source": [
    "ville = \"Sydney\"\n",
    "nombreVoyages = 5\n",
    "histoire = \"J'ai déjà été à \" + ville + \" \" + str(nombreVoyages) + \" fois\"\n",
    "print(histoire) "
   ]
  },
  {
   "cell_type": "markdown",
   "metadata": {},
   "source": [
    "### Essayez par vous-même :\n",
    "\n",
    "1. Définissez les variables mon_nom et mon_age avec des valeurs correspondant à votre propre nom et âge et affichez-les.\n",
    "2. Utilisez votre variable mon_age pour afficher votre âge dans 10 ans.\n"
   ]
  }
 ],
 "metadata": {
  "colab": {
   "provenance": []
  },
  "jupytext": {
   "cell_metadata_filter": "-all",
   "formats": "ipynb,py:light",
   "main_language": "python",
   "notebook_metadata_filter": "-all"
  },
  "kernelspec": {
   "display_name": "Python 3 (ipykernel)",
   "language": "python",
   "name": "python3"
  },
  "language_info": {
   "codemirror_mode": {
    "name": "ipython",
    "version": 3
   },
   "file_extension": ".py",
   "mimetype": "text/x-python",
   "name": "python",
   "nbconvert_exporter": "python",
   "pygments_lexer": "ipython3",
   "version": "3.9.13"
  }
 },
 "nbformat": 4,
 "nbformat_minor": 1
}
